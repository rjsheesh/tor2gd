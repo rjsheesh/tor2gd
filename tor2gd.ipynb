{
  "cells": [
    {
      "cell_type": "code",
      "source": [
        "# Step 1: --- Mount Google Drive ---\n",
        "from google.colab import drive\n",
        "drive.mount('/content/drive')"
      ],
      "metadata": {
        "id": "8T57WIiyU0Pq",
        "outputId": "e9ebd0aa-baea-462c-9ed2-df6c81fae078",
        "colab": {
          "base_uri": "https://localhost:8080/"
        }
      },
      "execution_count": 4,
      "outputs": [
        {
          "output_type": "stream",
          "name": "stdout",
          "text": [
            "Mounted at /content/drive\n"
          ]
        }
      ]
    },
    {
      "cell_type": "code",
      "source": [
        "# Step 2: Update & install dependencies first time\n",
        "!python /content/drive/MyDrive/Torrents/tor2col_setup.py"
      ],
      "metadata": {
        "id": "f1XZgYMY8pbA",
        "colab": {
          "base_uri": "https://localhost:8080/"
        },
        "outputId": "fa0c5616-d713-44c7-a9b5-27c3dbe6e888"
      },
      "execution_count": 3,
      "outputs": [
        {
          "output_type": "stream",
          "name": "stdout",
          "text": [
            "python3: can't open file '/content/drive/MyDrive/Torrents/tor2col_setup.py': [Errno 2] No such file or directory\n"
          ]
        }
      ]
    },
    {
      "cell_type": "code",
      "source": [
        "# Now Try Version v1 Run\n",
        "!python3.10 /content/drive/MyDrive/Torrents/tor2gd_v1.py"
      ],
      "metadata": {
        "id": "HYQDLAef9lhg",
        "colab": {
          "base_uri": "https://localhost:8080/"
        },
        "outputId": "309705a3-5d44-4894-e32d-86711b0d6132"
      },
      "execution_count": 2,
      "outputs": [
        {
          "output_type": "stream",
          "name": "stdout",
          "text": [
            "python3.10: can't open file '/content/drive/MyDrive/Torrents/tor2gd_v1.py': [Errno 2] No such file or directory\n"
          ]
        }
      ]
    },
    {
      "cell_type": "code",
      "source": [
        "# Now Try Version v2 Run\n",
        "!python3.10 /content/drive/MyDrive/Torrents/tor2gd_v2.py"
      ],
      "metadata": {
        "id": "L-UcHv8PIh4J"
      },
      "execution_count": null,
      "outputs": []
    },
    {
      "cell_type": "code",
      "source": [
        "# Now Try Version v3 Run\n",
        "!python3.10 /content/drive/MyDrive/Torrents/tor2gd_v3.py"
      ],
      "metadata": {
        "id": "hLD-pN2cIlDB",
        "colab": {
          "base_uri": "https://localhost:8080/"
        },
        "outputId": "564fcb1b-8e11-413f-ae1f-3810db53c488"
      },
      "execution_count": 1,
      "outputs": [
        {
          "output_type": "stream",
          "name": "stdout",
          "text": [
            "python3.10: can't open file '/content/drive/MyDrive/Torrents/tor2gd_v3.py': [Errno 2] No such file or directory\n"
          ]
        }
      ]
    }
  ],
  "metadata": {
    "colab": {
      "provenance": []
    },
    "kernelspec": {
      "display_name": "Python 3",
      "name": "python3"
    }
  },
  "nbformat": 4,
  "nbformat_minor": 0
}
