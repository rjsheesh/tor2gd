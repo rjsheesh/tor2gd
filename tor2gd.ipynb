{
  "cells": [
    {
      "cell_type": "code",
      "source": [
        "# Step 1: --- Mount Google Drive ---\n",
        "from google.colab import drive\n",
        "drive.mount('/content/drive')"
      ],
      "metadata": {
        "id": "8T57WIiyU0Pq"
      },
      "execution_count": null,
      "outputs": []
    },
    {
      "cell_type": "code",
      "source": [
        "# Step 2: Update & install dependencies first time\n",
        "!python /content/drive/MyDrive/Torrents/tor2col_setup.py"
      ],
      "metadata": {
        "id": "f1XZgYMY8pbA"
      },
      "execution_count": null,
      "outputs": []
    },
    {
      "cell_type": "code",
      "source": [
        "# Now Try Version v1 Run\n",
        "!python3.10 /content/drive/MyDrive/Torrents/tor2gd_v1.py"
      ],
      "metadata": {
        "id": "HYQDLAef9lhg"
      },
      "execution_count": null,
      "outputs": []
    },
    {
      "cell_type": "code",
      "source": [
        "# Now Try Version v2 Run\n",
        "!python3.10 /content/drive/MyDrive/Torrents/tor2gd_v2.py"
      ],
      "metadata": {
        "id": "L-UcHv8PIh4J"
      },
      "execution_count": null,
      "outputs": []
    },
    {
      "cell_type": "code",
      "source": [
        "# Now Try Version v3 Run\n",
        "!python3.10 /content/drive/MyDrive/Torrents/tor2gd_v3.py"
      ],
      "metadata": {
        "id": "hLD-pN2cIlDB"
      },
      "execution_count": null,
      "outputs": []
    }
  ],
  "metadata": {
    "colab": {
      "provenance": []
    },
    "kernelspec": {
      "display_name": "Python 3",
      "name": "python3"
    }
  },
  "nbformat": 4,
  "nbformat_minor": 0
}
