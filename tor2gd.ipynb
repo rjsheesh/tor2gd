{
  "cells": [
    {
      "cell_type": "code",
      "source": [
        "# ================================================================\n",
        "# 🚀 Google Colab Auto Installer\n",
        "# By RJ Sheesh\n",
        "# ================================================================\n",
        "\n",
        "import os\n",
        "import time\n",
        "from google.colab import drive\n",
        "from IPython.display import clear_output\n",
        "\n",
        "TORRENTS_DIR = \"/content/drive/MyDrive/Torrents\"\n",
        "PYTHON_TGZ = \"Python-3.10.0.tgz\"\n",
        "PYTHON_SRC = os.path.join(TORRENTS_DIR, \"Python-3.10.0\")\n",
        "PYTHON_URL = \"https://www.python.org/ftp/python/3.10.0/Python-3.10.0.tgz\"\n",
        "\n",
        "# ---------- Utility Functions ----------\n",
        "def log(msg):\n",
        "    print(f\"\\033[92m{msg}\\033[0m\")  # Green color\n",
        "\n",
        "def warn(msg):\n",
        "    print(f\"\\033[93m{msg}\\033[0m\")  # Yellow color\n",
        "\n",
        "def error(msg):\n",
        "    print(f\"\\033[91m{msg}\\033[0m\")  # Red color\n",
        "\n",
        "# ---------- Step 1: Mount Google Drive ----------\n",
        "log(\"🔄 Step 1: Mounting Google Drive...\")\n",
        "drive.mount('/content/drive')\n",
        "time.sleep(2)\n",
        "clear_output()\n",
        "log(\"✅ Google Drive Mounted Successfully!\")\n",
        "\n",
        "# ---------- Step 2: Install Dependencies ----------\n",
        "log(\"🔄 Step 2: Installing Build Dependencies...\")\n",
        "os.system('apt update -y && apt install build-essential zlib1g-dev libncurses5-dev libgdbm-dev libnss3-dev libssl-dev libreadline-dev libffi-dev wget -y')\n",
        "clear_output()\n",
        "log(\"✅ Dependencies Installed Successfully!\")\n",
        "\n",
        "# ---------- Step 3: Create Torrents Folder ----------\n",
        "if not os.path.exists(TORRENTS_DIR):\n",
        "    log(f\"📁 Creating folder: {TORRENTS_DIR}\")\n",
        "    os.makedirs(TORRENTS_DIR)\n",
        "else:\n",
        "    warn(f\"✅ Folder already exists: {TORRENTS_DIR}\")\n",
        "\n",
        "os.chdir(TORRENTS_DIR)\n",
        "\n",
        "# ---------- Step 4: Download Python 3.10 ----------\n",
        "if not os.path.exists(os.path.join(TORRENTS_DIR, PYTHON_TGZ)):\n",
        "    log(\"⬇️ Downloading Python-3.10.0.tgz ...\")\n",
        "    os.system(f\"wget {PYTHON_URL} -O {PYTHON_TGZ}\")\n",
        "else:\n",
        "    warn(\"✅ Python-3.10.0.tgz already exists, skipping download.\")\n",
        "\n",
        "# ---------- Step 5: Extract Python 3.10 ----------\n",
        "if not os.path.exists(PYTHON_SRC):\n",
        "    log(\"📦 Extracting Python-3.10.0...\")\n",
        "    os.system(f\"tar -xf {PYTHON_TGZ}\")\n",
        "else:\n",
        "    warn(\"✅ Python source folder already exists, skipping extraction.\")\n",
        "\n",
        "# ---------- Step 6: Configure Python 3.10 ----------\n",
        "os.chdir(PYTHON_SRC)\n",
        "log(\"⚙️ Configuring Python 3.10 build...\")\n",
        "os.system(\"chmod +x configure\")\n",
        "os.system(\"./configure --enable-optimizations --with-ensurepip=install\")\n",
        "\n",
        "# ---------- Step 7: Compile Python 3.10 ----------\n",
        "log(\"🛠️ Compiling Python 3.10 (this may take a while)...\")\n",
        "os.system(f\"make -j $(nproc)\")\n",
        "\n",
        "# ---------- Step 8: Install Python 3.10 ----------\n",
        "log(\"📥 Installing Python 3.10...\")\n",
        "os.system(\"sudo make altinstall\")\n",
        "\n",
        "# ---------- Step 9: Install Required Python Packages ----------\n",
        "log(\"📦 Installing required Python packages...\")\n",
        "os.system(\"python3.10 -m pip install --upgrade pip\")\n",
        "os.system(\"python3.10 -m pip install libtorrent tqdm colorama\")\n",
        "\n",
        "# ---------- Final Step ----------\n",
        "os.chdir(TORRENTS_DIR)\n",
        "log(\"✅ Setup Completed Successfully!\")\n"
      ],
      "metadata": {
        "id": "8T57WIiyU0Pq"
      },
      "execution_count": null,
      "outputs": []
    },
    {
      "cell_type": "code",
      "source": [
        "# Now Try Version v1 Run\n",
        "!python3.10 /content/drive/MyDrive/Torrents/tor2gd_v1.py"
      ],
      "metadata": {
        "id": "HYQDLAef9lhg"
      },
      "execution_count": null,
      "outputs": []
    },
    {
      "cell_type": "code",
      "source": [
        "# Now Try Version v2 Run\n",
        "!python3.10 /content/drive/MyDrive/Torrents/tor2gd_v2.py"
      ],
      "metadata": {
        "id": "L-UcHv8PIh4J"
      },
      "execution_count": null,
      "outputs": []
    },
    {
      "cell_type": "code",
      "source": [
        "# Now Try Version v3 Run\n",
        "!python3.10 /content/drive/MyDrive/Torrents/tor2gd_v3.py"
      ],
      "metadata": {
        "id": "hLD-pN2cIlDB"
      },
      "execution_count": null,
      "outputs": []
    }
  ],
  "metadata": {
    "colab": {
      "provenance": []
    },
    "kernelspec": {
      "display_name": "Python 3",
      "name": "python3"
    }
  },
  "nbformat": 4,
  "nbformat_minor": 0
}
